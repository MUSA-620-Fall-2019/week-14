{
 "cells": [
  {
   "cell_type": "markdown",
   "metadata": {
    "slideshow": {
     "slide_type": "slide"
    }
   },
   "source": [
    "## Week 14: Dashboarding with Panel and the Holoviz Ecosystem\n",
    "\n",
    "December 5, 2019"
   ]
  },
  {
   "cell_type": "markdown",
   "metadata": {
    "slideshow": {
     "slide_type": "slide"
    }
   },
   "source": [
    "## Last class!\n",
    "\n",
    "- Interactive dashboards with the Holoviz Ecosystem\n",
    "- Combine all the tools: Altair, Holoviews, GeoViews, Datashader, Folium\n",
    "- We'll walk through two example dashboards\n",
    "- Review final project and dashboarding options\n",
    "- Time to work on final project, ask questions, etc."
   ]
  },
  {
   "cell_type": "markdown",
   "metadata": {
    "slideshow": {
     "slide_type": "slide"
    }
   },
   "source": [
    "## Housekeeping\n",
    "\n",
    "- Still finishing reading through final project proposals\n",
    "    - Feedback via email in the next few days\n",
    "- Remainings homework solutions have been posted, grades back next week   \n",
    "- Final project due: **5pm on Monday, December 16th**\n",
    "\n",
    "**Final project details:** https://github.com/MUSA-620-Fall-2019/final-project"
   ]
  },
  {
   "cell_type": "markdown",
   "metadata": {
    "slideshow": {
     "slide_type": "subslide"
    }
   },
   "source": [
    "## Office Hours Next Week\n",
    "\n",
    "I'll hold office hours next week during the regular class slot: **Thursday Dec 12 from 5 to 8pm**"
   ]
  },
  {
   "cell_type": "markdown",
   "metadata": {
    "slideshow": {
     "slide_type": "slide"
    }
   },
   "source": [
    "## Last time\n",
    "\n",
    "- Example: Github Pages + Observable + Leaflet\n",
    "- Introduction to web servers\n",
    "- Dashboards with Flask + Altair\n",
    "- Dashboards with Dash"
   ]
  },
  {
   "cell_type": "markdown",
   "metadata": {
    "slideshow": {
     "slide_type": "slide"
    }
   },
   "source": [
    "## Two key elements of Dash apps\n",
    "\n",
    "- You must define the \"app.layout\" — this is your HTML layout\n",
    "- You must define your *callback* functions and the input/output that they take.\n",
    "    - You *mark* certain functions as callbacks so Dash knows they interact with your HTML code."
   ]
  },
  {
   "cell_type": "markdown",
   "metadata": {
    "slideshow": {
     "slide_type": "slide"
    }
   },
   "source": [
    "## More information: Dash user guide\n",
    "\n",
    "- https://dash.plot.ly/getting-started\n",
    "- Very good series of chapters illustrating different aspects of Dash\n",
    "- Relies on Plotly visualizations but idea is the same for IFrame elements"
   ]
  },
  {
   "cell_type": "markdown",
   "metadata": {
    "slideshow": {
     "slide_type": "slide"
    }
   },
   "source": [
    "## One more Dash example: Dash + Folium\n",
    "\n",
    "- Since Folium plots can be converted to HTML, they can be displayed in Dash apps as HTML IFrame elements\n",
    "- We can use Dash widgets to control what gets displayed on the map"
   ]
  },
  {
   "cell_type": "markdown",
   "metadata": {
    "slideshow": {
     "slide_type": "subslide"
    }
   },
   "source": [
    "From the base repository folder, run\n",
    "\n",
    "```\n",
    "cd dash-folium\n",
    "python app.py\n",
    "```\n",
    "\n",
    "to start the example"
   ]
  },
  {
   "cell_type": "markdown",
   "metadata": {
    "slideshow": {
     "slide_type": "slide"
    }
   },
   "source": [
    "## Deploying a Dash app\n",
    "\n",
    "- By default, Dash apps run on \"localhost\" - you can only access them on your own machine. \n",
    "- To share a Dash app, you need to \"deploy\" your Dash app to a server \n",
    "- Plotly has an \"enterprise\" (commercial) solution for this but it costs $$$"
   ]
  },
  {
   "cell_type": "markdown",
   "metadata": {
    "slideshow": {
     "slide_type": "slide"
    }
   },
   "source": [
    "## Recommended solution: Heroku\n",
    "\n",
    "- Heroku makes deployment of arbitrary apps and dashboards very easy\n",
    "- **Key:** Provides a free tier to get you started \n",
    "\n",
    "### Getting started\n",
    "\n",
    "- First, signup for a Heroku free [account](https://signup.heroku.com)\n",
    "- Download and [install the command line interface (CLI)](https://devcenter.heroku.com/articles/getting-started-with-python#set-up). \n",
    "- Once you are set up follow the instructions to log into the CLI."
   ]
  },
  {
   "cell_type": "markdown",
   "metadata": {
    "slideshow": {
     "slide_type": "slide"
    }
   },
   "source": [
    "## Launching your app on Heroku\n",
    "\n",
    "- The Dash docs contain a complete example of launching a simple Dash app to Heroku\n",
    "- See the \"Heroku Example\" section of https://dash.plot.ly/deployment\n",
    "- Make sure you've signed up for an account and downloaded the CLI first! (see the previous slide)"
   ]
  },
  {
   "cell_type": "markdown",
   "metadata": {
    "slideshow": {
     "slide_type": "slide"
    }
   },
   "source": [
    "## Summary: web-based visualizations so far\n",
    "\n",
    "- Github Pages via [MUSA-620-Fall-2019/github-pages-starter](https://github.com/MUSA-620-Fall-2019/github-pages-starter)\n",
    "    - Supports: Folium, Altair, Hvplot/Holoviews, HTML files via IFrames\n",
    "    - User cannot use the interactive features of the charts, but cannot change the content dynamically\n",
    "- Flask/Dash \n",
    "    - Supports: Folium, Altair, Hvplot/Holoviews, HTML files via IFrames\n",
    "    - Allows for more complex user interactions via a set of dynamic widgets\n",
    "    \n",
    "**Next Week: [Panel](https://panel.pyviz.org/)**\n",
    "\n",
    "- Example gallery: https://panel.pyviz.org/gallery/index.html\n",
    "- Other demos from a Panel developer: https://jsignell.github.io/"
   ]
  },
  {
   "cell_type": "markdown",
   "metadata": {
    "slideshow": {
     "slide_type": "slide"
    }
   },
   "source": [
    "## Exercise: modifying your Dash shootings apps\n",
    "\n",
    "Let's modify either the Altair-based or Folium-based Dash app for the shootings data in Philadelphia to include a dropdown that allows the user to specify which race to show data for.\n",
    "\n",
    "**Steps**\n",
    "- First, take a look at the documentation for the `Dropdown` object in Dash's [core component library](https://dash.plot.ly/dash-core-components): https://dash.plot.ly/dash-core-components/dropdown\n",
    "- Modify the layout of the app to include a new `Div` element that contains the Dropdown element\n",
    "- Modify your `render()` function to accept the value of the race dropdown as an input to the function — then, you can use that value to select the appropriate subset of your data frame to plot!"
   ]
  },
  {
   "cell_type": "markdown",
   "metadata": {
    "slideshow": {
     "slide_type": "slide"
    }
   },
   "source": [
    "## One more Dash example: Dash + Folium\n",
    "\n",
    "- Since Folium plots can be converted to HTML, they can be displayed in Dash apps as HTML IFrame elements\n",
    "- We can use Dash widgets to control what gets displayed on the map"
   ]
  },
  {
   "cell_type": "markdown",
   "metadata": {
    "slideshow": {
     "slide_type": "subslide"
    }
   },
   "source": [
    "## Dash + Folium example\n",
    "\n",
    "From the base repository folder, run\n",
    "\n",
    "```\n",
    "cd dash-folium\n",
    "python app.py\n",
    "```\n",
    "\n",
    "to start the example"
   ]
  },
  {
   "cell_type": "markdown",
   "metadata": {
    "slideshow": {
     "slide_type": "slide"
    }
   },
   "source": [
    "## Web-based visualizations so far\n",
    "\n",
    "1. Github Pages via [MUSA-620-Spring-2019/data-viz-template](https://github.com/MUSA-620-Spring-2019/data-viz-template)\n",
    "    - Supports: Observable cells, Folium, Altair, Holoviews, HTML files via IFrames\n",
    "1. Flask/Dash \n",
    "    - Supports: Folium, Altair, Holoviews, HTML files via IFrames"
   ]
  },
  {
   "cell_type": "markdown",
   "metadata": {
    "slideshow": {
     "slide_type": "subslide"
    }
   },
   "source": [
    "## The downside of these options\n",
    "\n",
    "- Github Pages is static — only user interaction comes from what is built in to the chart\n",
    "- Observable requires you to work with Javascript\n",
    "- Flask/Dash has server support, but IFrame based visualizations still can't talk to each other\n",
    "\n",
    "**Goal:** a Python-based solution with server support where visualizations from different libraries can interact with each other"
   ]
  },
  {
   "cell_type": "markdown",
   "metadata": {
    "slideshow": {
     "slide_type": "slide"
    }
   },
   "source": [
    "## Saving the best for last: Panel\n",
    "\n",
    "<a href=\"https://panel.pyviz.org/\" ><img src=\"imgs/panel_logo.png\" width=300></a>"
   ]
  },
  {
   "cell_type": "markdown",
   "metadata": {
    "slideshow": {
     "slide_type": "subslide"
    }
   },
   "source": [
    "## A high-level dashboarding solution in Python\n",
    "\n",
    "- Relatively new, but the most promising dashboard library so far\n",
    "- Supports nearly all plotting libraries\n",
    "- Works just as well in a Jupyter notebook as on a standalone secure web server\n",
    "- Large set of interactive widgets"
   ]
  },
  {
   "cell_type": "markdown",
   "metadata": {
    "slideshow": {
     "slide_type": "subslide"
    }
   },
   "source": [
    "## Very general too...\n",
    "\n",
    "- Multi-page layouts via tabs [See this page](https://panel.pyviz.org/user_guide/Components.html)\n",
    "- Can include custom CSS / Javascript as well"
   ]
  },
  {
   "cell_type": "markdown",
   "metadata": {
    "slideshow": {
     "slide_type": "slide"
    }
   },
   "source": [
    "**Crucial feature: supports live dashboarding code in a Jupyter notebook and deploying same code to a server**\n",
    "\n",
    "Only library to support entire data wrangling workflow in a Jupyter notebook"
   ]
  },
  {
   "cell_type": "markdown",
   "metadata": {
    "slideshow": {
     "slide_type": "slide"
    }
   },
   "source": [
    "<img src=\"imgs/panel_comparison.png\" width=800>\n",
    "\n",
    "See [Panel FAQ](https://panel.pyviz.org/FAQ.html)"
   ]
  },
  {
   "cell_type": "markdown",
   "metadata": {
    "slideshow": {
     "slide_type": "slide"
    }
   },
   "source": [
    "## Built on top of the PyViz ecosystem\n",
    "\n",
    "<img src=\"imgs/pyviz.png\" width=600>"
   ]
  },
  {
   "cell_type": "markdown",
   "metadata": {
    "slideshow": {
     "slide_type": "subslide"
    }
   },
   "source": [
    "**Also important: Panel provides only support for Datashader and visualizing large datasets**"
   ]
  },
  {
   "cell_type": "markdown",
   "metadata": {
    "slideshow": {
     "slide_type": "slide"
    }
   },
   "source": [
    "## Today's Plan\n",
    "\n",
    "We'll walk through two examples that can serve as reference/templates for the final project:\n",
    "\n",
    "1. [Visualizing recent shootings in Philadelphia using Altair, Folium, and Holoviews](https://github.com/MUSA-620-Spring-2019/philadelphia-shootings-app)\n",
    "1. [Visualizing NYC taxi trips with Datashader and Altair](https://github.com/MUSA-620-Spring-2019/datashader-nyc-taxi-app)"
   ]
  },
  {
   "cell_type": "markdown",
   "metadata": {
    "slideshow": {
     "slide_type": "slide"
    }
   },
   "source": [
    "## But first: an introduction to Python classes\n",
    "\n",
    "Let's take a quick look at [this nice tutorial](http://www.jesshamrick.com/2011/05/18/an-introduction-to-classes-and-inheritance-in-python/)"
   ]
  },
  {
   "cell_type": "markdown",
   "metadata": {
    "slideshow": {
     "slide_type": "slide"
    }
   },
   "source": [
    "## Back to Panel..."
   ]
  },
  {
   "cell_type": "markdown",
   "metadata": {
    "slideshow": {
     "slide_type": "subslide"
    }
   },
   "source": [
    "## Example 1: Philadelphia shootings\n",
    "\n",
    "Tools: Panel, Holoviews, Altair, Folium\n",
    "\n",
    "https://github.com/MUSA-620-Spring-2019/philadelphia-shootings-app"
   ]
  },
  {
   "cell_type": "markdown",
   "metadata": {
    "slideshow": {
     "slide_type": "subslide"
    }
   },
   "source": [
    "## Example 2: NYC Taxi Trips\n",
    "\n",
    "Tools: Panel, Holoviews, Altair, Datashader\n",
    "\n",
    "\n",
    "https://github.com/MUSA-620-Spring-2019/datashader-nyc-taxi-app"
   ]
  },
  {
   "cell_type": "markdown",
   "metadata": {
    "slideshow": {
     "slide_type": "slide"
    }
   },
   "source": [
    "## Web-based visualization options for the final project\n",
    "\n",
    "- Github Pages\n",
    "- Flask/Dash\n",
    "- Panel\n",
    "\n",
    "[See this outline of the options](./WebVisualizationOptions.md)"
   ]
  }
 ],
 "metadata": {
  "celltoolbar": "Slideshow",
  "kernelspec": {
   "display_name": "Python 3",
   "language": "python",
   "name": "python3"
  },
  "language_info": {
   "codemirror_mode": {
    "name": "ipython",
    "version": 3
   },
   "file_extension": ".py",
   "mimetype": "text/x-python",
   "name": "python",
   "nbconvert_exporter": "python",
   "pygments_lexer": "ipython3",
   "version": "3.7.3"
  }
 },
 "nbformat": 4,
 "nbformat_minor": 4
}
